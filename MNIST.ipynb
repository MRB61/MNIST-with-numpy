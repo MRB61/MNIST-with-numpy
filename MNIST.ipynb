{
 "cells": [
  {
   "cell_type": "code",
   "execution_count": 472,
   "id": "7a022811-e3c3-4dca-a735-e192b77c1b25",
   "metadata": {},
   "outputs": [
    {
     "data": {
      "text/html": [
       "\n",
       "<h1 style=\"color: rgb(30, 166, 92); font-size: 48px; font-weight: bold;\">\n",
       "    Classifying MNIST just for fun\n",
       "</h1>\n"
      ],
      "text/plain": [
       "<IPython.core.display.HTML object>"
      ]
     },
     "metadata": {},
     "output_type": "display_data"
    }
   ],
   "source": [
    "from IPython.display import display, HTML\n",
    "\n",
    "display(HTML(\"\"\"\n",
    "<h1 style=\"color: rgb(30, 166, 92); font-size: 48px; font-weight: bold;\">\n",
    "    Classifying MNIST just for fun\n",
    "</h1>\n",
    "\"\"\"))"
   ]
  },
  {
   "cell_type": "code",
   "execution_count": 473,
   "id": "6241763c",
   "metadata": {},
   "outputs": [],
   "source": [
    "import numpy as np\n",
    "import pandas as pd\n",
    "import matplotlib.pyplot as plt"
   ]
  },
  {
   "cell_type": "code",
   "execution_count": null,
   "id": "d4fde33a-4add-4908-a5cf-a71b14358a76",
   "metadata": {},
   "outputs": [],
   "source": []
  },
  {
   "cell_type": "code",
   "execution_count": null,
   "id": "f171533e-dc9b-4c3e-b81b-fa972ca18bf1",
   "metadata": {},
   "outputs": [],
   "source": []
  },
  {
   "cell_type": "code",
   "execution_count": 474,
   "id": "77e0fcc0-e131-4383-8c8a-421152a2b5fc",
   "metadata": {},
   "outputs": [],
   "source": [
    "import struct\n",
    "\n",
    "def load_images(filename):\n",
    "    with open(filename, 'rb') as f:\n",
    "        magic, num, rows, cols = struct.unpack(\">IIII\", f.read(16))\n",
    "        if magic != 2051:\n",
    "            raise ValueError(f\"Invalid magic number {magic} in image file\")\n",
    "        images = np.frombuffer(f.read(), dtype=np.uint8)\n",
    "        images = images.reshape((num, rows, cols))\n",
    "        return images\n",
    "\n",
    "def load_labels(filename):\n",
    "    with open(filename, 'rb') as f:\n",
    "        magic, num = struct.unpack(\">II\", f.read(8))\n",
    "        if magic != 2049:\n",
    "            raise ValueError(f\"Invalid magic number {magic} in label file\")\n",
    "        labels = np.frombuffer(f.read(), dtype=np.uint8)\n",
    "        return labels"
   ]
  },
  {
   "cell_type": "code",
   "execution_count": 475,
   "id": "6d0edb0c-339d-4eee-aa17-683b28b3e370",
   "metadata": {},
   "outputs": [],
   "source": [
    "X_train = load_images(\"train-images.idx3-ubyte\")\n",
    "Y_train = load_labels(\"train-labels.idx1-ubyte\")"
   ]
  },
  {
   "cell_type": "code",
   "execution_count": 476,
   "id": "4ab6e5e7-990d-4ed8-a49d-7773488722ac",
   "metadata": {},
   "outputs": [],
   "source": [
    "X_train=X_train.reshape(X_train.shape[0], -1)"
   ]
  },
  {
   "cell_type": "code",
   "execution_count": 477,
   "id": "815433a4-503b-4ec9-a1ba-462ddc177037",
   "metadata": {},
   "outputs": [
    {
     "data": {
      "text/plain": [
       "784"
      ]
     },
     "execution_count": 477,
     "metadata": {},
     "output_type": "execute_result"
    }
   ],
   "source": [
    "len(X_train[0])"
   ]
  },
  {
   "cell_type": "code",
   "execution_count": 478,
   "id": "46ac36e5-79e8-4a58-9557-f5c459ea2f71",
   "metadata": {},
   "outputs": [],
   "source": [
    "X_train=X_train/255"
   ]
  },
  {
   "cell_type": "code",
   "execution_count": 479,
   "id": "38162c32-2400-4bda-b4a8-17625a3223fc",
   "metadata": {},
   "outputs": [],
   "source": [
    "def actitan(x):\n",
    "    return 1/(1+np.exp(-x))\n",
    "def deract(x):\n",
    "    s=actitan(x)\n",
    "    return s*(1-s)\n",
    "def softmax(x):\n",
    "    x=x-np.max(x,axis=1,keepdims=True)\n",
    "    y=np.exp(x)\n",
    "    return y/(np.sum(y,axis=1,keepdims=True))"
   ]
  },
  {
   "cell_type": "code",
   "execution_count": 480,
   "id": "098a0010-07fb-4864-ba91-a960917f6aa0",
   "metadata": {},
   "outputs": [],
   "source": [
    "def init_params():\n",
    "    W_1=np.random.rand(784,10)-0.5\n",
    "    a_1=np.random.rand(1,10)\n",
    "    W_2=np.random.rand(10,10)-0.5\n",
    "    a_2=np.random.rand(1,10)\n",
    "    return W_1,a_1,W_2,a_2\n",
    "def classify(W_1,a_1,W_2,a_2,X):\n",
    "    L_1=X.dot(W_1)+a_1\n",
    "    A_1=actitan(L_1)\n",
    "    L_2=A_1.dot(W_2)+a_2\n",
    "    A_2=softmax(L_2)\n",
    "    return L_1,A_1,L_2,A_2\n",
    "def propag(L_1,A_1,L_2,A_2,W_2,X,Y):\n",
    "    m=len(Y)\n",
    "    labels=np.zeros((m,10))\n",
    "    labels[np.arange(m),Y]=1\n",
    "    e_2=A_2-labels\n",
    "    eW_2=1/m *(A_1.T.dot(e_2))\n",
    "    eb_2=1/m*np.sum(e_2,axis=0)\n",
    "    e_1=e_2.dot(W_2.T)*deract(L_1)\n",
    "    eW_1=1/m*(X.T.dot(e_1))\n",
    "    eb_1=1/m*np.sum(e_1,axis=0)\n",
    "    return eW_1,eW_2,eb_1,eb_2\n",
    "def update(W_1,a_1,W_2,a_2,eW_2,eW_1,eb_1,eb_2,alpha):\n",
    "    W_1=W_1-alpha*eW_1\n",
    "    W_2=W_2-alpha*eW_2\n",
    "    a_1=a_1-alpha*eb_1\n",
    "    a_2=a_2-alpha*eb_2\n",
    "    return W_1,a_1,W_2,a_2\n",
    "def accuracy(A_2,Y):\n",
    "    labels=np.argmax(A_2,axis=1)\n",
    "    return np.sum(labels==Y)/len(Y)\n",
    "def gradient(X,Y,iterations,alpha):\n",
    "    W_1,a_1,W_2,a_2=init_params()\n",
    "    for i in range(iterations):\n",
    "        L_1,A_1,L_2,A_2=classify(W_1,a_1,W_2,a_2,X)\n",
    "        eW_1,eW_2,eb_1,eb_2=propag(L_1,A_1,L_2,A_2,W_2,X,Y)\n",
    "        W_1,a_1,W_2,a_2=update(W_1,a_1,W_2,a_2,eW_2,eW_1,eb_1,eb_2,alpha)\n",
    "        if i%50==0:\n",
    "            print(accuracy(A_2,Y))\n",
    "    return W_1,a_1,W_2,a_2\n",
    "    \n",
    "def MNIST(X,W_1,a_1,W_2,a_2):\n",
    "    L_1,A_1,L_2,A_2=classify(W_1,a_2,W_2,a_2)\n",
    "    return np.argmax(A_2)\n",
    "    "
   ]
  },
  {
   "cell_type": "code",
   "execution_count": 481,
   "id": "65bae465-aefb-49e2-b64e-bdcd645190b8",
   "metadata": {},
   "outputs": [
    {
     "name": "stdout",
     "output_type": "stream",
     "text": [
      "0.06583333333333333\n",
      "0.27231666666666665\n",
      "0.41606666666666664\n",
      "0.5034833333333333\n",
      "0.5663166666666667\n",
      "0.6176\n",
      "0.6581333333333333\n",
      "0.6872833333333334\n",
      "0.7090166666666666\n",
      "0.72595\n",
      "0.7401333333333333\n",
      "0.7534166666666666\n",
      "0.7645333333333333\n",
      "0.7749666666666667\n",
      "0.7831\n",
      "0.7916666666666666\n",
      "0.7993166666666667\n",
      "0.8069166666666666\n",
      "0.8133166666666667\n",
      "0.8191166666666667\n"
     ]
    }
   ],
   "source": [
    "W_1,a_1,W_2,a_2=gradient(X_train,Y_train,1000,0.1)"
   ]
  },
  {
   "cell_type": "markdown",
   "id": "73f6171e-a4e0-45e5-97fd-b125b70bbc12",
   "metadata": {},
   "source": [
    "Different activation"
   ]
  },
  {
   "cell_type": "code",
   "execution_count": 483,
   "id": "51cf09ab-d5e9-4282-8157-25af9aae5f7b",
   "metadata": {},
   "outputs": [],
   "source": [
    "def actitan(x):\n",
    "    return np.maximum(0,x)\n",
    "def deract(x):\n",
    "    return (x>0).astype(float)\n",
    "def softmax(x):\n",
    "    x=x-np.max(x,axis=1,keepdims=True)\n",
    "    y=np.exp(x)\n",
    "    return y/(np.sum(y,axis=1,keepdims=True))\n",
    "\n",
    "def init_params():\n",
    "    W_1=np.random.rand(784,10)-0.5\n",
    "    a_1=np.random.rand(1,10)\n",
    "    W_2=np.random.rand(10,10)-0.5\n",
    "    a_2=np.random.rand(1,10)\n",
    "    return W_1,a_1,W_2,a_2\n",
    "def classify(W_1,a_1,W_2,a_2,X):\n",
    "    L_1=X.dot(W_1)+a_1\n",
    "    A_1=actitan(L_1)\n",
    "    L_2=A_1.dot(W_2)+a_2\n",
    "    A_2=softmax(L_2)\n",
    "    return L_1,A_1,L_2,A_2\n",
    "def propag(L_1,A_1,L_2,A_2,W_2,X,Y):\n",
    "    m=len(Y)\n",
    "    labels=np.zeros((m,10))\n",
    "    labels[np.arange(m),Y]=1\n",
    "    e_2=A_2-labels\n",
    "    eW_2=1/m *(A_1.T.dot(e_2))\n",
    "    eb_2=1/m*np.sum(e_2,axis=0)\n",
    "    e_1=e_2.dot(W_2.T)*deract(L_1)\n",
    "    eW_1=1/m*(X.T.dot(e_1))\n",
    "    eb_1=1/m*np.sum(e_1,axis=0)\n",
    "    return eW_1,eW_2,eb_1,eb_2\n",
    "def update(W_1,a_1,W_2,a_2,eW_2,eW_1,eb_1,eb_2,alpha):\n",
    "    W_1=W_1-alpha*eW_1\n",
    "    W_2=W_2-alpha*eW_2\n",
    "    a_1=a_1-alpha*eb_1\n",
    "    a_2=a_2-alpha*eb_2\n",
    "    return W_1,a_1,W_2,a_2\n",
    "def accuracy(A_2,Y):\n",
    "    labels=np.argmax(A_2,axis=1)\n",
    "    return np.sum(labels==Y)/len(Y)\n",
    "def gradient(X,Y,iterations,alpha):\n",
    "    W_1,a_1,W_2,a_2=init_params()\n",
    "    for i in range(iterations):\n",
    "        L_1,A_1,L_2,A_2=classify(W_1,a_1,W_2,a_2,X)\n",
    "        eW_1,eW_2,eb_1,eb_2=propag(L_1,A_1,L_2,A_2,W_2,X,Y)\n",
    "        W_1,a_1,W_2,a_2=update(W_1,a_1,W_2,a_2,eW_2,eW_1,eb_1,eb_2,alpha)\n",
    "        if i%50==0:\n",
    "            print(accuracy(A_2,Y))\n",
    "    return W_1,a_1,W_2,a_2\n",
    "    \n",
    "def MNIST(X,W_1,a_1,W_2,a_2):\n",
    "    L_1,A_1,L_2,A_2=classify(W_1,a_2,W_2,a_2,X)\n",
    "    return np.argmax(A_2,axis=1)\n",
    "    "
   ]
  },
  {
   "cell_type": "code",
   "execution_count": 484,
   "id": "f596f526-c6ad-430c-9b93-304865d8717d",
   "metadata": {},
   "outputs": [
    {
     "name": "stdout",
     "output_type": "stream",
     "text": [
      "0.08686666666666666\n",
      "0.49456666666666665\n",
      "0.63805\n",
      "0.7254833333333334\n",
      "0.7747166666666667\n",
      "0.8038833333333333\n",
      "0.8213833333333334\n",
      "0.8343166666666667\n",
      "0.84385\n",
      "0.8508\n",
      "0.8566\n",
      "0.86165\n",
      "0.8654666666666667\n",
      "0.8688333333333333\n",
      "0.8719833333333333\n",
      "0.8751333333333333\n",
      "0.8780833333333333\n",
      "0.8807333333333334\n",
      "0.8829\n",
      "0.8849166666666667\n",
      "0.8868333333333334\n",
      "0.8890666666666667\n",
      "0.89085\n",
      "0.8922666666666667\n",
      "0.8934166666666666\n",
      "0.89515\n",
      "0.8964666666666666\n",
      "0.89755\n",
      "0.8986666666666666\n",
      "0.8999\n",
      "0.90085\n",
      "0.9016666666666666\n",
      "0.9028\n",
      "0.90375\n",
      "0.9049166666666667\n",
      "0.9056666666666666\n",
      "0.9063333333333333\n",
      "0.90705\n",
      "0.9076833333333333\n",
      "0.9083\n"
     ]
    }
   ],
   "source": [
    "W_1,a_1,W_2,a_2=gradient(X_train,Y_train,2000,0.1)"
   ]
  },
  {
   "cell_type": "code",
   "execution_count": 485,
   "id": "46c25223-f3a0-4916-a257-4277d738ff31",
   "metadata": {},
   "outputs": [],
   "source": [
    "def plot_digit(X,Y,index):\n",
    "    label=MNIST(X,W_1,a_1,W_2,a_2)[index]\n",
    "    plt.imshow(X[index].reshape(28,28),cmap='gray')\n",
    "    plt.title(f'Allegedly: {label}' ' VS ' f'{Y[index]}')\n",
    "    plt.show()"
   ]
  },
  {
   "cell_type": "code",
   "execution_count": 486,
   "id": "1d93e25f-ca5d-402f-9a87-980e66140802",
   "metadata": {},
   "outputs": [
    {
     "data": {
      "image/png": "[encoded data removed]",
      "text/plain": [
       "<Figure size 640x480 with 1 Axes>"
      ]
     },
     "metadata": {},
     "output_type": "display_data"
    }
   ],
   "source": [
    "plot_digit(X_train,Y_train,575)"
   ]
  },
  {
   "cell_type": "code",
   "execution_count": 487,
   "id": "c530a743-8441-4f05-9d70-4ba84fdb3900",
   "metadata": {},
   "outputs": [],
   "source": [
    "X_test = load_images(\"t10k-images.idx3-ubyte\")\n",
    "Y_test = load_labels(\"t10k-labels.idx1-ubyte\")\n",
    "X_test=X_test.reshape(X_test.shape[0], -1)\n",
    "X_test=X_test/255"
   ]
  },
  {
   "cell_type": "code",
   "execution_count": 488,
   "id": "f4ee2519-fccc-4540-af5c-7ba1dfb834f8",
   "metadata": {},
   "outputs": [
    {
     "data": {
      "image/png": "[encoded data removed]",
      "text/plain": [
       "<Figure size 640x480 with 1 Axes>"
      ]
     },
     "metadata": {},
     "output_type": "display_data"
    }
   ],
   "source": [
    "plot_digit(X_test,Y_test,653)"
   ]
  },
  {
   "cell_type": "code",
   "execution_count": 514,
   "id": "477c3f43-1d64-4d76-9ae5-e350d6ba40cb",
   "metadata": {},
   "outputs": [
    {
     "data": {
      "image/png": "[encoded data removed]",
      "text/plain": [
       "<Figure size 640x480 with 1 Axes>"
      ]
     },
     "metadata": {},
     "output_type": "display_data"
    }
   ],
   "source": [
    "plot_digit(X_test,Y_test,359)"
   ]
  },
  {
   "cell_type": "code",
   "execution_count": null,
   "id": "a5cc92fe-e54c-4f30-a207-f414188faa33",
   "metadata": {},
   "outputs": [],
   "source": []
  }
 ],
 "metadata": {
  "kernelspec": {
   "display_name": "Python [conda env:base] *",
   "language": "python",
   "name": "conda-base-py"
  },
  "language_info": {
   "codemirror_mode": {
    "name": "ipython",
    "version": 3
   },
   "file_extension": ".py",
   "mimetype": "text/x-python",
   "name": "python",
   "nbconvert_exporter": "python",
   "pygments_lexer": "ipython3",
   "version": "3.10.16"
  }
 },
 "nbformat": 4,
 "nbformat_minor": 5
}
